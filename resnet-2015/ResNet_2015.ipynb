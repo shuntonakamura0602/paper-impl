{
  "nbformat": 4,
  "nbformat_minor": 0,
  "metadata": {
    "colab": {
      "provenance": [],
      "gpuType": "T4"
    },
    "kernelspec": {
      "name": "python3",
      "display_name": "Python 3"
    },
    "language_info": {
      "name": "python"
    },
    "accelerator": "GPU"
  },
  "cells": [
    {
      "cell_type": "code",
      "execution_count": 1,
      "metadata": {
        "colab": {
          "base_uri": "https://localhost:8080/"
        },
        "id": "MBDJn6fctSTq",
        "outputId": "dc6fd854-33fc-4fca-d3fd-6f4b4d7c3c51"
      },
      "outputs": [
        {
          "output_type": "stream",
          "name": "stdout",
          "text": [
            "Cloning into 'paper-impl'...\n",
            "remote: Enumerating objects: 82, done.\u001b[K\n",
            "remote: Counting objects: 100% (82/82), done.\u001b[K\n",
            "remote: Compressing objects: 100% (54/54), done.\u001b[K\n",
            "remote: Total 82 (delta 22), reused 75 (delta 17), pack-reused 0 (from 0)\u001b[K\n",
            "Receiving objects: 100% (82/82), 18.99 KiB | 9.49 MiB/s, done.\n",
            "Resolving deltas: 100% (22/22), done.\n",
            "/content/paper-impl/resnet-2015\n",
            "model.py  README.md  requirements.txt  train.py\n"
          ]
        }
      ],
      "source": [
        "!git clone https://github.com/shuntonakamura0602/paper-impl.git\n",
        "%cd paper-impl/resnet-2015\n",
        "!ls\n",
        "from model import ResNet, BasicBlock"
      ]
    },
    {
      "cell_type": "code",
      "source": [
        "import torch\n",
        "import torch.nn as nn\n",
        "import torch.optim as optim\n",
        "from torchvision import datasets, transforms\n",
        "from torch.utils.data import DataLoader\n",
        "\n",
        "# model.pyからResNetとBasicBlockをインポート\n",
        "from model import ResNet, BasicBlock\n",
        "\n",
        "def train():\n",
        "    # --- 1. デバイスの設定 ---\n",
        "    device = torch.device(\"cuda\" if torch.cuda.is_available() else \"cpu\")\n",
        "    print(f\"Using device: {device}\")\n",
        "\n",
        "    # --- 2. データセットとデータローダーの準備 ---\n",
        "    # CIFAR-10の標準的な正規化パラメータ\n",
        "    transform = transforms.Compose([\n",
        "        transforms.ToTensor(),\n",
        "        transforms.Normalize((0.4914, 0.4822, 0.4465), (0.2023, 0.1994, 0.2010))\n",
        "    ])\n",
        "\n",
        "    # 学習用データ\n",
        "    train_dataset = datasets.CIFAR10(root=\"./data\", train=True, download=True, transform=transform)\n",
        "    train_loader = DataLoader(train_dataset, batch_size=128, shuffle=True, num_workers=2)\n",
        "\n",
        "    # テスト用データ\n",
        "    test_dataset = datasets.CIFAR10(root=\"./data\", train=False, download=True, transform=transform)\n",
        "    test_loader = DataLoader(test_dataset, batch_size=100, shuffle=False, num_workers=2)\n",
        "\n",
        "    # --- 3. モデル、損失関数、オプティマイザの定義 ---\n",
        "    # ResNet-18をCIFAR-10用に設定\n",
        "    # layers=[2, 2, 2, 2] はResNet-18を意味する\n",
        "    # num_classes=10 はCIFAR-10のクラス数\n",
        "    model = ResNet(BasicBlock, layers=[2, 2, 2, 2], num_classes=10).to(device)\n",
        "\n",
        "    criterion = nn.CrossEntropyLoss()\n",
        "    optimizer = optim.Adam(model.parameters(), lr=0.001)\n",
        "\n",
        "    # --- 4. 学習ループ ---\n",
        "    num_epochs = 10 # エポック数を10に設定\n",
        "    for epoch in range(num_epochs):\n",
        "        model.train() # モデルを学習モードに設定\n",
        "        running_loss = 0.0\n",
        "        for i, (inputs, labels) in enumerate(train_loader):\n",
        "            # データをデバイスに送る\n",
        "            inputs, labels = inputs.to(device), labels.to(device)\n",
        "\n",
        "            # 勾配をリセット\n",
        "            optimizer.zero_grad()\n",
        "\n",
        "            # 順伝播\n",
        "            outputs = model(inputs)\n",
        "            loss = criterion(outputs, labels)\n",
        "\n",
        "            # 逆伝播\n",
        "            loss.backward()\n",
        "            optimizer.step()\n",
        "\n",
        "            running_loss += loss.item()\n",
        "            if (i + 1) % 100 == 0:\n",
        "                print(f\"Epoch [{epoch+1}/{num_epochs}], Step [{i+1}/{len(train_loader)}], Loss: {loss.item():.4f}\")\n",
        "\n",
        "        print(f\"Epoch {epoch+1} Average Loss: {running_loss / len(train_loader):.4f}\")\n",
        "\n",
        "    print(\"Finished Training\")\n",
        "\n",
        "    # --- 5. 評価ループ ---\n",
        "    model.eval() # モデルを評価モードに設定\n",
        "    correct = 0\n",
        "    total = 0\n",
        "    with torch.no_grad(): # 勾配計算を無効化\n",
        "        for inputs, labels in test_loader:\n",
        "            inputs, labels = inputs.to(device), labels.to(device)\n",
        "            outputs = model(inputs)\n",
        "            _, predicted = torch.max(outputs.data, 1)\n",
        "            total += labels.size(0)\n",
        "            correct += (predicted == labels).sum().item()\n",
        "\n",
        "    print(f\"Test Accuracy: {100 * correct / total:.2f} %\")\n",
        "\n",
        "if __name__ == \"__main__\":\n",
        "    train()"
      ],
      "metadata": {
        "colab": {
          "base_uri": "https://localhost:8080/"
        },
        "id": "3tDdZyCOtaFS",
        "outputId": "4e5cec38-f225-48f1-b147-7f943cb29df7"
      },
      "execution_count": 2,
      "outputs": [
        {
          "output_type": "stream",
          "name": "stdout",
          "text": [
            "Using device: cuda\n"
          ]
        },
        {
          "output_type": "stream",
          "name": "stderr",
          "text": [
            "100%|██████████| 170M/170M [00:13<00:00, 12.8MB/s]\n"
          ]
        },
        {
          "output_type": "stream",
          "name": "stdout",
          "text": [
            "Epoch [1/10], Step [100/391], Loss: 1.3540\n",
            "Epoch [1/10], Step [200/391], Loss: 1.2600\n",
            "Epoch [1/10], Step [300/391], Loss: 1.1653\n",
            "Epoch 1 Average Loss: 1.3573\n",
            "Epoch [2/10], Step [100/391], Loss: 0.9945\n",
            "Epoch [2/10], Step [200/391], Loss: 1.1711\n",
            "Epoch [2/10], Step [300/391], Loss: 0.8690\n",
            "Epoch 2 Average Loss: 0.9567\n",
            "Epoch [3/10], Step [100/391], Loss: 0.6450\n",
            "Epoch [3/10], Step [200/391], Loss: 0.7180\n",
            "Epoch [3/10], Step [300/391], Loss: 0.8734\n",
            "Epoch 3 Average Loss: 0.7760\n",
            "Epoch [4/10], Step [100/391], Loss: 0.7064\n",
            "Epoch [4/10], Step [200/391], Loss: 0.5125\n",
            "Epoch [4/10], Step [300/391], Loss: 0.8089\n",
            "Epoch 4 Average Loss: 0.6566\n",
            "Epoch [5/10], Step [100/391], Loss: 0.4970\n",
            "Epoch [5/10], Step [200/391], Loss: 0.6068\n",
            "Epoch [5/10], Step [300/391], Loss: 0.6394\n",
            "Epoch 5 Average Loss: 0.5473\n",
            "Epoch [6/10], Step [100/391], Loss: 0.5157\n",
            "Epoch [6/10], Step [200/391], Loss: 0.4978\n",
            "Epoch [6/10], Step [300/391], Loss: 0.5061\n",
            "Epoch 6 Average Loss: 0.4634\n",
            "Epoch [7/10], Step [100/391], Loss: 0.3044\n",
            "Epoch [7/10], Step [200/391], Loss: 0.4652\n",
            "Epoch [7/10], Step [300/391], Loss: 0.5826\n",
            "Epoch 7 Average Loss: 0.3838\n",
            "Epoch [8/10], Step [100/391], Loss: 0.2704\n",
            "Epoch [8/10], Step [200/391], Loss: 0.3714\n",
            "Epoch [8/10], Step [300/391], Loss: 0.3369\n",
            "Epoch 8 Average Loss: 0.3086\n",
            "Epoch [9/10], Step [100/391], Loss: 0.1841\n",
            "Epoch [9/10], Step [200/391], Loss: 0.2283\n",
            "Epoch [9/10], Step [300/391], Loss: 0.3030\n",
            "Epoch 9 Average Loss: 0.2407\n",
            "Epoch [10/10], Step [100/391], Loss: 0.1128\n",
            "Epoch [10/10], Step [200/391], Loss: 0.1985\n",
            "Epoch [10/10], Step [300/391], Loss: 0.1706\n",
            "Epoch 10 Average Loss: 0.2058\n",
            "Finished Training\n",
            "Test Accuracy: 74.75 %\n"
          ]
        }
      ]
    },
    {
      "cell_type": "code",
      "source": [],
      "metadata": {
        "id": "0Jzr8XPHtiNv"
      },
      "execution_count": null,
      "outputs": []
    }
  ]
}